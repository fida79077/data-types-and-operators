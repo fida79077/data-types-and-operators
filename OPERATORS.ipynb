{
  "nbformat": 4,
  "nbformat_minor": 0,
  "metadata": {
    "colab": {
      "provenance": []
    },
    "kernelspec": {
      "name": "python3",
      "display_name": "Python 3"
    },
    "language_info": {
      "name": "python"
    }
  },
  "cells": [
    {
      "cell_type": "markdown",
      "source": [
        "\n",
        "Arithametic operators\n",
        "assignment operators\n",
        "comparison operators\n",
        "logical operators\n",
        "identity oprators\n",
        "membership operator\n",
        "bitwise operator\n",
        "---\n",
        "\n"
      ],
      "metadata": {
        "id": "1ap305DyCjVQ"
      }
    },
    {
      "cell_type": "markdown",
      "source": [
        "**Arithametic operators**"
      ],
      "metadata": {
        "id": "dZApf82jDQGM"
      }
    },
    {
      "cell_type": "markdown",
      "source": [
        "Addition\n",
        "substraction\n",
        "multiplication\n",
        "division\n",
        "modulus\n",
        "exponentiation\n",
        "floor division"
      ],
      "metadata": {
        "id": "W5ICR14mDYYt"
      }
    },
    {
      "cell_type": "markdown",
      "source": [
        "Addition"
      ],
      "metadata": {
        "id": "yj-Sr6mnEhml"
      }
    },
    {
      "cell_type": "code",
      "source": [
        "a=5\n",
        "b=6\n",
        "c=a+b\n",
        "print(c)"
      ],
      "metadata": {
        "colab": {
          "base_uri": "https://localhost:8080/"
        },
        "id": "AMXbomo_ETxf",
        "outputId": "37b7a0a1-8bf4-4e68-9329-835d719b7d14"
      },
      "execution_count": 1,
      "outputs": [
        {
          "output_type": "stream",
          "name": "stdout",
          "text": [
            "11\n"
          ]
        }
      ]
    },
    {
      "cell_type": "code",
      "execution_count": 2,
      "metadata": {
        "colab": {
          "base_uri": "https://localhost:8080/"
        },
        "id": "aowbejHPBdM2",
        "outputId": "4cb2bca7-5211-4874-dcc9-3176ec554d1b"
      },
      "outputs": [
        {
          "output_type": "stream",
          "name": "stdout",
          "text": [
            "60\n"
          ]
        }
      ],
      "source": [
        "a=10\n",
        "b= 50\n",
        "print(a+b)"
      ]
    },
    {
      "cell_type": "markdown",
      "source": [
        "Substraction"
      ],
      "metadata": {
        "id": "ALp9Zo6IEvhy"
      }
    },
    {
      "cell_type": "code",
      "source": [
        "a = 60\n",
        "b = 40\n",
        "c = a - b\n",
        "print(c)"
      ],
      "metadata": {
        "colab": {
          "base_uri": "https://localhost:8080/"
        },
        "id": "W0A1UHmRE0bP",
        "outputId": "cd98eb86-b5b8-4ae2-dc2f-b7ce51ec3052"
      },
      "execution_count": 3,
      "outputs": [
        {
          "output_type": "stream",
          "name": "stdout",
          "text": [
            "20\n"
          ]
        }
      ]
    },
    {
      "cell_type": "code",
      "source": [
        "a = 70\n",
        "b = 100\n",
        "print(a-b)"
      ],
      "metadata": {
        "colab": {
          "base_uri": "https://localhost:8080/"
        },
        "id": "W8jzeWTFFKwv",
        "outputId": "964822f0-2db2-4454-b622-a17e705dcbb9"
      },
      "execution_count": 4,
      "outputs": [
        {
          "output_type": "stream",
          "name": "stdout",
          "text": [
            "-30\n"
          ]
        }
      ]
    },
    {
      "cell_type": "markdown",
      "source": [
        "Multiplication"
      ],
      "metadata": {
        "id": "pKSbDwIkFhTb"
      }
    },
    {
      "cell_type": "code",
      "source": [
        "a = 10\n",
        "b = 4\n",
        "c = a * b\n",
        "print(c)"
      ],
      "metadata": {
        "colab": {
          "base_uri": "https://localhost:8080/"
        },
        "id": "51ttum8FFl7Z",
        "outputId": "0bb2d4d4-a6fd-4f7b-f540-25c0c9af3f55"
      },
      "execution_count": 5,
      "outputs": [
        {
          "output_type": "stream",
          "name": "stdout",
          "text": [
            "40\n"
          ]
        }
      ]
    },
    {
      "cell_type": "code",
      "source": [
        "a = 0\n",
        "b = 7\n",
        "print (a*b)"
      ],
      "metadata": {
        "colab": {
          "base_uri": "https://localhost:8080/"
        },
        "id": "76SHfe_8F0JA",
        "outputId": "a3a4dee7-da19-422d-e666-a0a8783b833b"
      },
      "execution_count": 6,
      "outputs": [
        {
          "output_type": "stream",
          "name": "stdout",
          "text": [
            "0\n"
          ]
        }
      ]
    },
    {
      "cell_type": "markdown",
      "source": [
        "Division"
      ],
      "metadata": {
        "id": "UMdZAhtjFzrJ"
      }
    },
    {
      "cell_type": "code",
      "source": [
        "a = 20\n",
        "b =10\n",
        "n = a/b\n",
        "print (n)"
      ],
      "metadata": {
        "colab": {
          "base_uri": "https://localhost:8080/"
        },
        "id": "pRNjp2E8GDLi",
        "outputId": "01c81bd9-8623-4096-e540-14a4dfe0ae15"
      },
      "execution_count": 7,
      "outputs": [
        {
          "output_type": "stream",
          "name": "stdout",
          "text": [
            "2.0\n"
          ]
        }
      ]
    },
    {
      "cell_type": "markdown",
      "source": [
        "Modulus ( reminder )"
      ],
      "metadata": {
        "id": "nnN0YKVwG7Fr"
      }
    },
    {
      "cell_type": "code",
      "source": [
        "a = 50\n",
        "b = 40\n",
        "c = a % b\n",
        "print (c)"
      ],
      "metadata": {
        "colab": {
          "base_uri": "https://localhost:8080/"
        },
        "id": "GQW11vSJGXk7",
        "outputId": "fb3f07cc-71a0-4e64-b51e-1772fedf1e9a"
      },
      "execution_count": 8,
      "outputs": [
        {
          "output_type": "stream",
          "name": "stdout",
          "text": [
            "10\n"
          ]
        }
      ]
    },
    {
      "cell_type": "markdown",
      "source": [
        "Expenentiation"
      ],
      "metadata": {
        "id": "reBvokN9HVHD"
      }
    },
    {
      "cell_type": "code",
      "source": [
        "a = 5\n",
        "b = 2\n",
        "c = a**b\n",
        "print (c)"
      ],
      "metadata": {
        "colab": {
          "base_uri": "https://localhost:8080/"
        },
        "id": "TUDAoRRPHSjA",
        "outputId": "ba0f586b-5b01-4fe6-d8a1-1da30bbc53a8"
      },
      "execution_count": 10,
      "outputs": [
        {
          "output_type": "stream",
          "name": "stdout",
          "text": [
            "25\n"
          ]
        }
      ]
    },
    {
      "cell_type": "markdown",
      "source": [
        "Floor division  -  ([]box funcion)"
      ],
      "metadata": {
        "id": "itpB0a5QHrhE"
      }
    },
    {
      "cell_type": "code",
      "source": [
        "a = 8\n",
        "b = 10\n",
        "c = a // b\n",
        "print(c)        # 8/10 =0.8  But here we write only 0 ,neglect the numbers after decimal"
      ],
      "metadata": {
        "colab": {
          "base_uri": "https://localhost:8080/"
        },
        "id": "yztKle0BH0dI",
        "outputId": "a309ab99-da52-4cea-b766-c1df8c48564b"
      },
      "execution_count": 11,
      "outputs": [
        {
          "output_type": "stream",
          "name": "stdout",
          "text": [
            "0\n"
          ]
        }
      ]
    },
    {
      "cell_type": "code",
      "source": [
        "a = 5\n",
        "b = 4\n",
        "c = a // b\n",
        "print(c)        # 5 / 4 = 1.22\n"
      ],
      "metadata": {
        "colab": {
          "base_uri": "https://localhost:8080/"
        },
        "id": "jCUqCJsPHmtY",
        "outputId": "960d12f3-75e2-4f2c-9011-5478e01de0ad"
      },
      "execution_count": 12,
      "outputs": [
        {
          "output_type": "stream",
          "name": "stdout",
          "text": [
            "1\n"
          ]
        }
      ]
    },
    {
      "cell_type": "markdown",
      "source": [
        "**COMPARISON OPERATOR**"
      ],
      "metadata": {
        "id": "pSFYu9ycJ5Pw"
      }
    },
    {
      "cell_type": "markdown",
      "source": [
        "Equal x == y\n",
        "Not equal x != y\n",
        "Greater than x > y\n",
        "Less then x < y\n",
        "Greater than or equal x >= y\n",
        "Less than or equal x <= y"
      ],
      "metadata": {
        "id": "C0MiYg_1KJd1"
      }
    },
    {
      "cell_type": "code",
      "source": [
        "x = 90\n",
        "y = 10\n",
        "print (x == y)"
      ],
      "metadata": {
        "colab": {
          "base_uri": "https://localhost:8080/"
        },
        "id": "VcBavdzPI5EW",
        "outputId": "5307ee28-4bcf-492e-9578-12af26f02e32"
      },
      "execution_count": 13,
      "outputs": [
        {
          "output_type": "stream",
          "name": "stdout",
          "text": [
            "False\n"
          ]
        }
      ]
    },
    {
      "cell_type": "code",
      "source": [
        "x = 50\n",
        "y = 80\n",
        "print(x != y)"
      ],
      "metadata": {
        "colab": {
          "base_uri": "https://localhost:8080/"
        },
        "id": "PtxwPhNjLGae",
        "outputId": "f1620e06-af03-46e4-daa6-c8574c7247be"
      },
      "execution_count": 14,
      "outputs": [
        {
          "output_type": "stream",
          "name": "stdout",
          "text": [
            "True\n"
          ]
        }
      ]
    },
    {
      "cell_type": "code",
      "source": [
        "x = 60\n",
        "y = 70\n",
        "print(x > y)"
      ],
      "metadata": {
        "colab": {
          "base_uri": "https://localhost:8080/"
        },
        "id": "Qg93PhtSLRTq",
        "outputId": "62fa6a71-37e5-420d-8ae0-b4210d813fca"
      },
      "execution_count": 16,
      "outputs": [
        {
          "output_type": "stream",
          "name": "stdout",
          "text": [
            "False\n"
          ]
        }
      ]
    },
    {
      "cell_type": "code",
      "source": [
        "x = 90\n",
        "y = 60\n",
        "print (x < y)"
      ],
      "metadata": {
        "colab": {
          "base_uri": "https://localhost:8080/"
        },
        "id": "txs29oI5LZWO",
        "outputId": "88b27354-518f-405e-8519-3b6d3e3dafab"
      },
      "execution_count": 17,
      "outputs": [
        {
          "output_type": "stream",
          "name": "stdout",
          "text": [
            "False\n"
          ]
        }
      ]
    },
    {
      "cell_type": "code",
      "source": [
        "x =80\n",
        "y = 80\n",
        "print(x >= y)"
      ],
      "metadata": {
        "colab": {
          "base_uri": "https://localhost:8080/"
        },
        "id": "z74MDWhHLlO9",
        "outputId": "c5be7301-56f5-4ee8-f09b-23b5f1e30480"
      },
      "execution_count": 18,
      "outputs": [
        {
          "output_type": "stream",
          "name": "stdout",
          "text": [
            "True\n"
          ]
        }
      ]
    },
    {
      "cell_type": "code",
      "source": [
        "x = 70\n",
        "y = 60\n",
        "print(x <= y)"
      ],
      "metadata": {
        "colab": {
          "base_uri": "https://localhost:8080/"
        },
        "id": "fHxBJmUqLtx9",
        "outputId": "b6c5e977-ab51-4346-dbc5-7fa654a69fce"
      },
      "execution_count": 22,
      "outputs": [
        {
          "output_type": "stream",
          "name": "stdout",
          "text": [
            "False\n"
          ]
        }
      ]
    },
    {
      "cell_type": "code",
      "source": [
        "x = 'hellow'\n",
        "y = 700\n",
        "print(type(x) == type(y))"
      ],
      "metadata": {
        "colab": {
          "base_uri": "https://localhost:8080/"
        },
        "id": "StrGytl6L2K4",
        "outputId": "c6c9704c-dcae-4aab-a083-804685af32fb"
      },
      "execution_count": 20,
      "outputs": [
        {
          "output_type": "stream",
          "name": "stdout",
          "text": [
            "False\n"
          ]
        }
      ]
    },
    {
      "cell_type": "markdown",
      "source": [
        "**LOGICAL OPERATORS**"
      ],
      "metadata": {
        "id": "EeCIopWmOENh"
      }
    },
    {
      "cell_type": "code",
      "source": [
        "True and False"
      ],
      "metadata": {
        "colab": {
          "base_uri": "https://localhost:8080/"
        },
        "id": "6uzw-a_WMN4c",
        "outputId": "c352f42f-5128-431f-bb88-2f55c5dfe1bb"
      },
      "execution_count": 23,
      "outputs": [
        {
          "output_type": "execute_result",
          "data": {
            "text/plain": [
              "False"
            ]
          },
          "metadata": {},
          "execution_count": 23
        }
      ]
    },
    {
      "cell_type": "code",
      "source": [
        "False and True"
      ],
      "metadata": {
        "colab": {
          "base_uri": "https://localhost:8080/"
        },
        "id": "Dmpu6FAkOWx1",
        "outputId": "8db8bd6d-23c2-409d-dcde-4a84dad02813"
      },
      "execution_count": 24,
      "outputs": [
        {
          "output_type": "execute_result",
          "data": {
            "text/plain": [
              "False"
            ]
          },
          "metadata": {},
          "execution_count": 24
        }
      ]
    },
    {
      "cell_type": "code",
      "source": [
        "True and True"
      ],
      "metadata": {
        "colab": {
          "base_uri": "https://localhost:8080/"
        },
        "id": "GwgoJiduOaHz",
        "outputId": "0c35634e-19fb-4dd9-9b09-acf2836c6dc2"
      },
      "execution_count": 25,
      "outputs": [
        {
          "output_type": "execute_result",
          "data": {
            "text/plain": [
              "True"
            ]
          },
          "metadata": {},
          "execution_count": 25
        }
      ]
    },
    {
      "cell_type": "code",
      "source": [
        "False and False"
      ],
      "metadata": {
        "colab": {
          "base_uri": "https://localhost:8080/"
        },
        "id": "odBDRw0UOdyC",
        "outputId": "07d300df-d2f3-404e-9d97-0cf10790393d"
      },
      "execution_count": 26,
      "outputs": [
        {
          "output_type": "execute_result",
          "data": {
            "text/plain": [
              "False"
            ]
          },
          "metadata": {},
          "execution_count": 26
        }
      ]
    },
    {
      "cell_type": "code",
      "source": [
        "True or False"
      ],
      "metadata": {
        "colab": {
          "base_uri": "https://localhost:8080/"
        },
        "id": "A__ghNRwOhSY",
        "outputId": "cebecc1c-6ee8-4e73-99f9-d4d0d63e28c6"
      },
      "execution_count": 27,
      "outputs": [
        {
          "output_type": "execute_result",
          "data": {
            "text/plain": [
              "True"
            ]
          },
          "metadata": {},
          "execution_count": 27
        }
      ]
    },
    {
      "cell_type": "code",
      "source": [
        "False or True"
      ],
      "metadata": {
        "colab": {
          "base_uri": "https://localhost:8080/"
        },
        "id": "gm2flVR8OpgQ",
        "outputId": "6ace87c8-7b9b-4050-baa6-b9751cff8844"
      },
      "execution_count": 28,
      "outputs": [
        {
          "output_type": "execute_result",
          "data": {
            "text/plain": [
              "True"
            ]
          },
          "metadata": {},
          "execution_count": 28
        }
      ]
    },
    {
      "cell_type": "code",
      "source": [
        "True or True"
      ],
      "metadata": {
        "colab": {
          "base_uri": "https://localhost:8080/"
        },
        "id": "wdNWuUhsOs81",
        "outputId": "7cb825b0-c305-41e0-b0be-9cacb1df86ee"
      },
      "execution_count": 29,
      "outputs": [
        {
          "output_type": "execute_result",
          "data": {
            "text/plain": [
              "True"
            ]
          },
          "metadata": {},
          "execution_count": 29
        }
      ]
    },
    {
      "cell_type": "code",
      "source": [
        "False or False"
      ],
      "metadata": {
        "colab": {
          "base_uri": "https://localhost:8080/"
        },
        "id": "HPFBK6EZO0W-",
        "outputId": "58a67c3a-448d-4464-8e00-d927d2a01090"
      },
      "execution_count": 30,
      "outputs": [
        {
          "output_type": "execute_result",
          "data": {
            "text/plain": [
              "False"
            ]
          },
          "metadata": {},
          "execution_count": 30
        }
      ]
    },
    {
      "cell_type": "code",
      "source": [
        "not True"
      ],
      "metadata": {
        "colab": {
          "base_uri": "https://localhost:8080/"
        },
        "id": "rkObS0_5O2nv",
        "outputId": "addc25d4-f7ec-4b39-ca63-8f1aedab73df"
      },
      "execution_count": 1,
      "outputs": [
        {
          "output_type": "execute_result",
          "data": {
            "text/plain": [
              "False"
            ]
          },
          "metadata": {},
          "execution_count": 1
        }
      ]
    },
    {
      "cell_type": "code",
      "source": [
        "not False"
      ],
      "metadata": {
        "colab": {
          "base_uri": "https://localhost:8080/"
        },
        "id": "3ZGlcD5QPEni",
        "outputId": "4c5a5d13-ff2d-40fa-bc05-2192befa9fe6"
      },
      "execution_count": 2,
      "outputs": [
        {
          "output_type": "execute_result",
          "data": {
            "text/plain": [
              "True"
            ]
          },
          "metadata": {},
          "execution_count": 2
        }
      ]
    },
    {
      "cell_type": "code",
      "source": [
        "x = 90\n",
        "y = 60\n",
        "print( x ==y and x !=y)"
      ],
      "metadata": {
        "colab": {
          "base_uri": "https://localhost:8080/"
        },
        "id": "Pd3fITGHPGfI",
        "outputId": "bd04245b-ebe9-4381-edf2-f96b00f7b243"
      },
      "execution_count": 3,
      "outputs": [
        {
          "output_type": "stream",
          "name": "stdout",
          "text": [
            "False\n"
          ]
        }
      ]
    },
    {
      "cell_type": "code",
      "source": [
        "x = 90\n",
        "y = 20\n",
        "print( x == y or x != y)"
      ],
      "metadata": {
        "colab": {
          "base_uri": "https://localhost:8080/"
        },
        "id": "cyzxQwjWPVnV",
        "outputId": "16c2689a-ba98-4180-95d0-24dc429d36d9"
      },
      "execution_count": 4,
      "outputs": [
        {
          "output_type": "stream",
          "name": "stdout",
          "text": [
            "True\n"
          ]
        }
      ]
    },
    {
      "cell_type": "code",
      "source": [
        "x = 90\n",
        "y = 20\n",
        "print( not( x== y or x!=y))"
      ],
      "metadata": {
        "colab": {
          "base_uri": "https://localhost:8080/"
        },
        "id": "m8pSGHW3Pw46",
        "outputId": "72d5d733-e0dd-413c-9abb-51980268c4b4"
      },
      "execution_count": 5,
      "outputs": [
        {
          "output_type": "stream",
          "name": "stdout",
          "text": [
            "False\n"
          ]
        }
      ]
    },
    {
      "cell_type": "code",
      "source": [
        "x = True\n",
        "y = not x\n",
        "print(y)"
      ],
      "metadata": {
        "colab": {
          "base_uri": "https://localhost:8080/"
        },
        "id": "ayXGynBtQU5e",
        "outputId": "e952229a-d59b-46ad-de8c-cdcba8c7eff7"
      },
      "execution_count": 6,
      "outputs": [
        {
          "output_type": "stream",
          "name": "stdout",
          "text": [
            "False\n"
          ]
        }
      ]
    },
    {
      "cell_type": "markdown",
      "source": [
        "IDENTITY OPERATORS"
      ],
      "metadata": {
        "id": "qYloSvbTRkBk"
      }
    },
    {
      "cell_type": "markdown",
      "source": [
        "is , is not"
      ],
      "metadata": {
        "id": "Br4EaTKwSGv1"
      }
    },
    {
      "cell_type": "code",
      "source": [
        "a = 70\n",
        "b = 47\n",
        "print (a is b)"
      ],
      "metadata": {
        "colab": {
          "base_uri": "https://localhost:8080/"
        },
        "id": "qczokjYLQhpD",
        "outputId": "206de9a0-b032-46a4-a9f7-c763c1714925"
      },
      "execution_count": 7,
      "outputs": [
        {
          "output_type": "stream",
          "name": "stdout",
          "text": [
            "False\n"
          ]
        }
      ]
    },
    {
      "cell_type": "code",
      "source": [
        "print (type(a) is type(b))"
      ],
      "metadata": {
        "colab": {
          "base_uri": "https://localhost:8080/"
        },
        "id": "21Qixs7ISa2i",
        "outputId": "8e6a3c26-299d-45b2-ccdd-4bc59addc920"
      },
      "execution_count": 8,
      "outputs": [
        {
          "output_type": "stream",
          "name": "stdout",
          "text": [
            "True\n"
          ]
        }
      ]
    },
    {
      "cell_type": "code",
      "source": [
        "print(type(a) is not type(b))"
      ],
      "metadata": {
        "colab": {
          "base_uri": "https://localhost:8080/"
        },
        "id": "nFZogTzDSm55",
        "outputId": "f5a4eb3b-f4fe-4440-decf-f247da30e045"
      },
      "execution_count": 9,
      "outputs": [
        {
          "output_type": "stream",
          "name": "stdout",
          "text": [
            "False\n"
          ]
        }
      ]
    },
    {
      "cell_type": "markdown",
      "source": [
        "MEMBERSHIP OPERATOR"
      ],
      "metadata": {
        "id": "1b3sVkP6S0eP"
      }
    },
    {
      "cell_type": "markdown",
      "source": [
        "in,not in"
      ],
      "metadata": {
        "id": "X13kAVpNS4V2"
      }
    },
    {
      "cell_type": "code",
      "source": [
        "x = 'hellow'\n",
        "print ('e'in x)"
      ],
      "metadata": {
        "colab": {
          "base_uri": "https://localhost:8080/"
        },
        "id": "wJHpzAYNSwlK",
        "outputId": "692d6814-b7ec-4ef4-b173-d4b2fd365e66"
      },
      "execution_count": 11,
      "outputs": [
        {
          "output_type": "stream",
          "name": "stdout",
          "text": [
            "True\n"
          ]
        }
      ]
    },
    {
      "cell_type": "code",
      "source": [
        "print('e' not in x)"
      ],
      "metadata": {
        "colab": {
          "base_uri": "https://localhost:8080/"
        },
        "id": "hDmwFBF4TOqy",
        "outputId": "71e9aa16-a516-497e-d682-9ebd8cc9820c"
      },
      "execution_count": 12,
      "outputs": [
        {
          "output_type": "stream",
          "name": "stdout",
          "text": [
            "False\n"
          ]
        }
      ]
    },
    {
      "cell_type": "code",
      "source": [
        "x = 'hellow how are you'\n",
        "print('how' in x)"
      ],
      "metadata": {
        "colab": {
          "base_uri": "https://localhost:8080/"
        },
        "id": "P2-JyUlMUki8",
        "outputId": "e295eae0-44d7-4d6f-c311-ec6b24bf111e"
      },
      "execution_count": 13,
      "outputs": [
        {
          "output_type": "stream",
          "name": "stdout",
          "text": [
            "True\n"
          ]
        }
      ]
    },
    {
      "cell_type": "code",
      "source": [],
      "metadata": {
        "id": "sSXzXg4-U2CJ"
      },
      "execution_count": null,
      "outputs": []
    }
  ]
}