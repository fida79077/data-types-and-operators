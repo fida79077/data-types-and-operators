{
  "nbformat": 4,
  "nbformat_minor": 0,
  "metadata": {
    "colab": {
      "provenance": []
    },
    "kernelspec": {
      "name": "python3",
      "display_name": "Python 3"
    },
    "language_info": {
      "name": "python"
    }
  },
  "cells": [
    {
      "cell_type": "markdown",
      "source": [
        "TEXT TYPE - str"
      ],
      "metadata": {
        "id": "PrZgoK0YcUHw"
      }
    },
    {
      "cell_type": "code",
      "source": [
        "name='fida'"
      ],
      "metadata": {
        "id": "9eKYdfIdc8W8"
      },
      "execution_count": null,
      "outputs": []
    },
    {
      "cell_type": "code",
      "source": [
        "print(name)"
      ],
      "metadata": {
        "colab": {
          "base_uri": "https://localhost:8080/"
        },
        "id": "Ai7_2E67dN7Z",
        "outputId": "36855212-da6c-4a2b-8f32-2e78b6d63b31"
      },
      "execution_count": null,
      "outputs": [
        {
          "output_type": "stream",
          "name": "stdout",
          "text": [
            "fida\n"
          ]
        }
      ]
    },
    {
      "cell_type": "code",
      "source": [
        "print(type(name))"
      ],
      "metadata": {
        "colab": {
          "base_uri": "https://localhost:8080/"
        },
        "id": "ZOEbZ0SQdVoU",
        "outputId": "ad8858df-988c-478b-ce53-9e9ad28adb82"
      },
      "execution_count": null,
      "outputs": [
        {
          "output_type": "stream",
          "name": "stdout",
          "text": [
            "<class 'str'>\n"
          ]
        }
      ]
    },
    {
      "cell_type": "code",
      "source": [
        "name='ff'\n",
        "print(name)"
      ],
      "metadata": {
        "colab": {
          "base_uri": "https://localhost:8080/"
        },
        "id": "AwIchfhddc5y",
        "outputId": "78f0956b-efd3-4670-d4b2-56dffb7128fd"
      },
      "execution_count": null,
      "outputs": [
        {
          "output_type": "stream",
          "name": "stdout",
          "text": [
            "ff\n"
          ]
        }
      ]
    },
    {
      "cell_type": "code",
      "source": [
        "name='11'    #if inside quotes it will cinsider as a string\n",
        "print(name)"
      ],
      "metadata": {
        "colab": {
          "base_uri": "https://localhost:8080/"
        },
        "id": "zk1iOb4Hd3eK",
        "outputId": "21df43ec-68ef-41d9-b726-e0bf1e016845"
      },
      "execution_count": null,
      "outputs": [
        {
          "output_type": "stream",
          "name": "stdout",
          "text": [
            "11\n"
          ]
        }
      ]
    },
    {
      "cell_type": "code",
      "source": [
        "print(type(name))"
      ],
      "metadata": {
        "colab": {
          "base_uri": "https://localhost:8080/"
        },
        "id": "t0EEUb9beEDu",
        "outputId": "57456759-943e-41e4-b18b-c53a780555c0"
      },
      "execution_count": null,
      "outputs": [
        {
          "output_type": "stream",
          "name": "stdout",
          "text": [
            "<class 'str'>\n"
          ]
        }
      ]
    },
    {
      "cell_type": "code",
      "source": [
        "name='''fida'''\n",
        "print(name)"
      ],
      "metadata": {
        "colab": {
          "base_uri": "https://localhost:8080/"
        },
        "id": "Ll5WvQHCeIMd",
        "outputId": "3effd316-3798-4ab7-c158-961bbce1d282"
      },
      "execution_count": null,
      "outputs": [
        {
          "output_type": "stream",
          "name": "stdout",
          "text": [
            "fida\n"
          ]
        }
      ]
    },
    {
      "cell_type": "code",
      "source": [
        "name=\"\"\"ff\"\"\"\n",
        "print(name)"
      ],
      "metadata": {
        "colab": {
          "base_uri": "https://localhost:8080/"
        },
        "id": "H1PFBRrEeq3B",
        "outputId": "ba08d5fb-af19-48f6-e686-56744ac1eeec"
      },
      "execution_count": null,
      "outputs": [
        {
          "output_type": "stream",
          "name": "stdout",
          "text": [
            "ff\n"
          ]
        }
      ]
    },
    {
      "cell_type": "code",
      "source": [
        "name=\"\"\"fgdkjd fghfe dvff\n",
        "        gjhyjh gyj gyh\"\"\" #for printing multiple lines of a code\n"
      ],
      "metadata": {
        "id": "XbC9z-MrezE-"
      },
      "execution_count": null,
      "outputs": []
    },
    {
      "cell_type": "code",
      "source": [
        "print(name)"
      ],
      "metadata": {
        "colab": {
          "base_uri": "https://localhost:8080/"
        },
        "id": "Unp0DLixfGJ_",
        "outputId": "9b1f3db6-1c6d-45d8-8a3b-72e21a9c6780"
      },
      "execution_count": null,
      "outputs": [
        {
          "output_type": "stream",
          "name": "stdout",
          "text": [
            "fgdkjd fghfe dvff\n",
            "        gjhyjh gyj gyh\n"
          ]
        }
      ]
    },
    {
      "cell_type": "markdown",
      "source": [
        "NUMERIC TYPE\n",
        " INTEGER-int\n",
        " FLOAT-float\n",
        " COMPLEX"
      ],
      "metadata": {
        "id": "dWRuARx0fcvE"
      }
    },
    {
      "cell_type": "markdown",
      "source": [
        "**COMPLEX**"
      ],
      "metadata": {
        "id": "pjceDkhNf0RF"
      }
    },
    {
      "cell_type": "code",
      "source": [
        "age=98+7j"
      ],
      "metadata": {
        "id": "2jT-X-dJgAZj"
      },
      "execution_count": null,
      "outputs": []
    },
    {
      "cell_type": "code",
      "source": [
        "print(type(age))"
      ],
      "metadata": {
        "colab": {
          "base_uri": "https://localhost:8080/"
        },
        "id": "A1yydzuZf9eF",
        "outputId": "3f673942-c691-4303-d4a8-418553a81765"
      },
      "execution_count": null,
      "outputs": [
        {
          "output_type": "stream",
          "name": "stdout",
          "text": [
            "<class 'complex'>\n"
          ]
        }
      ]
    },
    {
      "cell_type": "code",
      "source": [
        "print(age.real)"
      ],
      "metadata": {
        "colab": {
          "base_uri": "https://localhost:8080/"
        },
        "id": "FlAeP_GvfKFl",
        "outputId": "aa3d4ea8-03c5-497f-bc5a-82c40892f420"
      },
      "execution_count": null,
      "outputs": [
        {
          "output_type": "stream",
          "name": "stdout",
          "text": [
            "98.0\n"
          ]
        }
      ]
    },
    {
      "cell_type": "code",
      "source": [
        "print(age.imag)"
      ],
      "metadata": {
        "colab": {
          "base_uri": "https://localhost:8080/"
        },
        "id": "UwkUmearghBd",
        "outputId": "233a7759-2a92-455e-c0b6-2cc1125c432a"
      },
      "execution_count": null,
      "outputs": [
        {
          "output_type": "stream",
          "name": "stdout",
          "text": [
            "7.0\n"
          ]
        }
      ]
    },
    {
      "cell_type": "markdown",
      "source": [
        "SEQUENCE TYPE (collection of data)"
      ],
      "metadata": {
        "id": "mG4lBEwugsLO"
      }
    },
    {
      "cell_type": "markdown",
      "source": [
        "List,Tupple,Range"
      ],
      "metadata": {
        "id": "8bYGxDDlg5EJ"
      }
    },
    {
      "cell_type": "markdown",
      "source": [
        "Mapping types"
      ],
      "metadata": {
        "id": "jG2oDSMsg_va"
      }
    },
    {
      "cell_type": "markdown",
      "source": [
        "**dict(collection of data)**"
      ],
      "metadata": {
        "id": "NbNQA65-hEBt"
      }
    },
    {
      "cell_type": "code",
      "source": [
        "dict={name:'sany',age:55,name:'fida',age:21}"
      ],
      "metadata": {
        "id": "uJ1dsgFdgjUr"
      },
      "execution_count": null,
      "outputs": []
    },
    {
      "cell_type": "markdown",
      "source": [
        "**Set Type**"
      ],
      "metadata": {
        "id": "W1w1xxNkh0jW"
      }
    },
    {
      "cell_type": "markdown",
      "source": [
        "1-set    \n",
        "2-frozen set"
      ],
      "metadata": {
        "id": "A-JCRXNvh0eD"
      }
    },
    {
      "cell_type": "markdown",
      "source": [
        "**BOOLEAN DATA TYPE**"
      ],
      "metadata": {
        "id": "qqvoBr5yiGVy"
      }
    },
    {
      "cell_type": "markdown",
      "source": [
        "TRUE   \n",
        "FALSE"
      ],
      "metadata": {
        "id": "Avzz7UNmiMFC"
      }
    },
    {
      "cell_type": "code",
      "source": [
        "x=True\n",
        "print(type(x))"
      ],
      "metadata": {
        "colab": {
          "base_uri": "https://localhost:8080/"
        },
        "id": "ZN9Y8t1LiEE3",
        "outputId": "36db7c4c-0eee-4df0-c537-9876a3543523"
      },
      "execution_count": null,
      "outputs": [
        {
          "output_type": "stream",
          "name": "stdout",
          "text": [
            "<class 'bool'>\n"
          ]
        }
      ]
    },
    {
      "cell_type": "code",
      "source": [
        "print(True+True)"
      ],
      "metadata": {
        "colab": {
          "base_uri": "https://localhost:8080/"
        },
        "id": "YeAaPBeFicD7",
        "outputId": "25232400-83e5-4b30-923c-8e1fa22f78d2"
      },
      "execution_count": null,
      "outputs": [
        {
          "output_type": "stream",
          "name": "stdout",
          "text": [
            "2\n"
          ]
        }
      ]
    },
    {
      "cell_type": "code",
      "source": [
        "print(False+False)"
      ],
      "metadata": {
        "colab": {
          "base_uri": "https://localhost:8080/"
        },
        "id": "gZgncIrpiiBu",
        "outputId": "835733ec-6c28-47ad-cceb-a563951c26c5"
      },
      "execution_count": null,
      "outputs": [
        {
          "output_type": "stream",
          "name": "stdout",
          "text": [
            "0\n"
          ]
        }
      ]
    },
    {
      "cell_type": "code",
      "source": [
        "print(True+True+False)"
      ],
      "metadata": {
        "colab": {
          "base_uri": "https://localhost:8080/"
        },
        "id": "UWozJa5liqiB",
        "outputId": "fea38049-50cf-48f1-95bf-93f222d06557"
      },
      "execution_count": null,
      "outputs": [
        {
          "output_type": "stream",
          "name": "stdout",
          "text": [
            "2\n"
          ]
        }
      ]
    },
    {
      "cell_type": "markdown",
      "source": [
        "**NONE TYPE**"
      ],
      "metadata": {
        "id": "-oq3Gue2hzJJ"
      }
    },
    {
      "cell_type": "code",
      "source": [
        "x=None\n",
        "print(x)"
      ],
      "metadata": {
        "colab": {
          "base_uri": "https://localhost:8080/"
        },
        "id": "-5gIgr-ejRip",
        "outputId": "7acb6f2d-598e-47e4-9888-3e877793159c"
      },
      "execution_count": null,
      "outputs": [
        {
          "output_type": "stream",
          "name": "stdout",
          "text": [
            "None\n"
          ]
        }
      ]
    },
    {
      "cell_type": "code",
      "source": [
        "print(type(x))"
      ],
      "metadata": {
        "colab": {
          "base_uri": "https://localhost:8080/"
        },
        "id": "J-xTZcBzjXQh",
        "outputId": "2ee6da99-d0fc-4c17-9d66-06bf44fe49d6"
      },
      "execution_count": null,
      "outputs": [
        {
          "output_type": "stream",
          "name": "stdout",
          "text": [
            "<class 'NoneType'>\n"
          ]
        }
      ]
    },
    {
      "cell_type": "markdown",
      "source": [
        " **DATA TYPE CASTING**"
      ],
      "metadata": {
        "id": "L66UoyNhkngQ"
      }
    },
    {
      "cell_type": "code",
      "source": [
        "age=67"
      ],
      "metadata": {
        "id": "hZ9lghBuk4Pc"
      },
      "execution_count": null,
      "outputs": []
    },
    {
      "cell_type": "code",
      "source": [
        "print(type(age))"
      ],
      "metadata": {
        "colab": {
          "base_uri": "https://localhost:8080/"
        },
        "id": "6TKxm7r-lAAV",
        "outputId": "4f236ae4-c8aa-4e34-be87-4067de91ad5b"
      },
      "execution_count": null,
      "outputs": [
        {
          "output_type": "stream",
          "name": "stdout",
          "text": [
            "<class 'int'>\n"
          ]
        }
      ]
    },
    {
      "cell_type": "code",
      "source": [
        "age=str(age)"
      ],
      "metadata": {
        "id": "onVdJWcBk_8z"
      },
      "execution_count": null,
      "outputs": []
    },
    {
      "cell_type": "code",
      "source": [
        "print(type(age))"
      ],
      "metadata": {
        "colab": {
          "base_uri": "https://localhost:8080/"
        },
        "id": "GvY4R8o4k_51",
        "outputId": "6d3b0d51-7f6a-4e97-c68b-d9687c308734"
      },
      "execution_count": null,
      "outputs": [
        {
          "output_type": "stream",
          "name": "stdout",
          "text": [
            "<class 'str'>\n"
          ]
        }
      ]
    },
    {
      "cell_type": "code",
      "source": [
        "print(age)"
      ],
      "metadata": {
        "colab": {
          "base_uri": "https://localhost:8080/"
        },
        "id": "J7jTK_Lck_3V",
        "outputId": "8af31269-f9dc-4981-c545-2d282cabcc83"
      },
      "execution_count": null,
      "outputs": [
        {
          "output_type": "stream",
          "name": "stdout",
          "text": [
            "67\n"
          ]
        }
      ]
    },
    {
      "cell_type": "code",
      "source": [
        "print(type(age))"
      ],
      "metadata": {
        "colab": {
          "base_uri": "https://localhost:8080/"
        },
        "id": "zxGd6g7ik_1A",
        "outputId": "3593fffa-266e-4333-f2b6-6ed5fae38f39"
      },
      "execution_count": null,
      "outputs": [
        {
          "output_type": "stream",
          "name": "stdout",
          "text": [
            "<class 'str'>\n"
          ]
        }
      ]
    },
    {
      "cell_type": "code",
      "source": [
        "age=float(age)"
      ],
      "metadata": {
        "id": "1hF3d5r4k_yM"
      },
      "execution_count": null,
      "outputs": []
    },
    {
      "cell_type": "code",
      "source": [
        "print(type(age))"
      ],
      "metadata": {
        "colab": {
          "base_uri": "https://localhost:8080/"
        },
        "id": "inRWzbi8k_kV",
        "outputId": "5b2e2456-bd5f-4d2f-9451-d5cf7142de30"
      },
      "execution_count": null,
      "outputs": [
        {
          "output_type": "stream",
          "name": "stdout",
          "text": [
            "<class 'float'>\n"
          ]
        }
      ]
    },
    {
      "cell_type": "code",
      "source": [
        "print(age)"
      ],
      "metadata": {
        "colab": {
          "base_uri": "https://localhost:8080/"
        },
        "id": "kylR51r1k_Ky",
        "outputId": "e180cd90-2a1a-497a-8edb-7c0359cb022a"
      },
      "execution_count": null,
      "outputs": [
        {
          "output_type": "stream",
          "name": "stdout",
          "text": [
            "67.0\n"
          ]
        }
      ]
    },
    {
      "cell_type": "code",
      "source": [
        "age1=complex(age)"
      ],
      "metadata": {
        "id": "u4sqwxArlqP3"
      },
      "execution_count": null,
      "outputs": []
    },
    {
      "cell_type": "code",
      "source": [
        "print(age1)"
      ],
      "metadata": {
        "colab": {
          "base_uri": "https://localhost:8080/"
        },
        "id": "NMGsss5xlwh3",
        "outputId": "46ca96c8-58b8-4068-9981-dfa4a46e328a"
      },
      "execution_count": null,
      "outputs": [
        {
          "output_type": "stream",
          "name": "stdout",
          "text": [
            "(67+0j)\n"
          ]
        }
      ]
    },
    {
      "cell_type": "code",
      "source": [
        "print(age1.imag)"
      ],
      "metadata": {
        "colab": {
          "base_uri": "https://localhost:8080/"
        },
        "id": "M3ZRYdMzlznh",
        "outputId": "efff05f2-35c9-4661-9581-5dff8d2d5354"
      },
      "execution_count": null,
      "outputs": [
        {
          "output_type": "stream",
          "name": "stdout",
          "text": [
            "0.0\n"
          ]
        }
      ]
    },
    {
      "cell_type": "code",
      "source": [
        "print(age1.real)"
      ],
      "metadata": {
        "colab": {
          "base_uri": "https://localhost:8080/"
        },
        "id": "pIxFKklXl6MZ",
        "outputId": "fb96508c-d686-4295-c20d-e26c295ba3f9"
      },
      "execution_count": null,
      "outputs": [
        {
          "output_type": "stream",
          "name": "stdout",
          "text": [
            "67.0\n"
          ]
        }
      ]
    },
    {
      "cell_type": "code",
      "source": [
        "print(type(age1))"
      ],
      "metadata": {
        "colab": {
          "base_uri": "https://localhost:8080/"
        },
        "id": "NX081U2rl-7i",
        "outputId": "47ac9ec9-4257-48cf-e9dc-02f6b858868c"
      },
      "execution_count": null,
      "outputs": [
        {
          "output_type": "stream",
          "name": "stdout",
          "text": [
            "<class 'complex'>\n"
          ]
        }
      ]
    },
    {
      "cell_type": "code",
      "source": [],
      "metadata": {
        "id": "ssSTOqAomDQn"
      },
      "execution_count": null,
      "outputs": []
    }
  ]
}